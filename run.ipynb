{
 "cells": [
  {
   "cell_type": "code",
   "execution_count": 8,
   "metadata": {},
   "outputs": [
    {
     "name": "stdout",
     "output_type": "stream",
     "text": [
      "6664d075d22b3a3c97bf1b3b\n"
     ]
    }
   ],
   "source": [
    "import requests\n",
    "\n",
    "url = \"https://api.twelvelabs.io/v1.2/indexes/6664c644e6fb7df29de0f237/videos\"\n",
    "\n",
    "headers = {\n",
    "    \"accept\": \"application/json\",\n",
    "    \"Content-Type\": \"application/json\",\n",
    "    \"x-api-key\" : \"---REDACTED---\"\n",
    "}\n",
    "\n",
    "response = requests.get(url, headers=headers)\n",
    "\n",
    "print(eval(response.text)['data'][0]['_id'])"
   ]
  },
  {
   "cell_type": "code",
   "execution_count": 28,
   "metadata": {},
   "outputs": [
    {
     "name": "stdout",
     "output_type": "stream",
     "text": [
      "MoviePy - Writing audio in theaudio.mp3\n"
     ]
    },
    {
     "name": "stderr",
     "output_type": "stream",
     "text": [
      "                                                                    "
     ]
    },
    {
     "name": "stdout",
     "output_type": "stream",
     "text": [
      "MoviePy - Done.\n"
     ]
    },
    {
     "name": "stderr",
     "output_type": "stream",
     "text": [
      "\r"
     ]
    }
   ],
   "source": [
    "import moviepy.editor as mp\n",
    "\n",
    "clip = mp.VideoFileClip(\"Donut (15-Second Ad).mp4\").subclip(0,20)\n",
    "clip.audio.write_audiofile(\"theaudio.mp3\")"
   ]
  },
  {
   "cell_type": "code",
   "execution_count": 14,
   "metadata": {},
   "outputs": [
    {
     "name": "stdout",
     "output_type": "stream",
     "text": [
      "Defaulting to user installation because normal site-packages is not writeable\n",
      "Collecting moviepy\n",
      "  Downloading moviepy-1.0.3.tar.gz (388 kB)\n",
      "\u001b[K     |████████████████████████████████| 388 kB 6.0 MB/s eta 0:00:01\n",
      "\u001b[?25hCollecting decorator<5.0,>=4.0.2\n",
      "  Downloading decorator-4.4.2-py2.py3-none-any.whl (9.2 kB)\n",
      "Requirement already satisfied: tqdm<5.0,>=4.11.2 in /Users/prateekchhikara/Library/Python/3.9/lib/python/site-packages (from moviepy) (4.66.1)\n",
      "Requirement already satisfied: requests<3.0,>=2.8.1 in /Library/Python/3.9/site-packages (from moviepy) (2.31.0)\n",
      "Collecting proglog<=1.0.0\n",
      "  Downloading proglog-0.1.10-py3-none-any.whl (6.1 kB)\n",
      "Requirement already satisfied: numpy>=1.17.3 in /Library/Python/3.9/site-packages (from moviepy) (1.26.3)\n",
      "Requirement already satisfied: imageio<3.0,>=2.5 in /Library/Python/3.9/site-packages (from moviepy) (2.33.1)\n",
      "Collecting imageio_ffmpeg>=0.2.0\n",
      "  Downloading imageio-ffmpeg-0.5.1.tar.gz (17 kB)\n",
      "Requirement already satisfied: pillow>=8.3.2 in /Library/Python/3.9/site-packages (from imageio<3.0,>=2.5->moviepy) (10.2.0)\n",
      "Requirement already satisfied: setuptools in /Library/Developer/CommandLineTools/Library/Frameworks/Python3.framework/Versions/3.9/lib/python3.9/site-packages (from imageio_ffmpeg>=0.2.0->moviepy) (58.0.4)\n",
      "Requirement already satisfied: certifi>=2017.4.17 in /Library/Python/3.9/site-packages (from requests<3.0,>=2.8.1->moviepy) (2023.11.17)\n",
      "Requirement already satisfied: charset-normalizer<4,>=2 in /Library/Python/3.9/site-packages (from requests<3.0,>=2.8.1->moviepy) (3.3.2)\n",
      "Requirement already satisfied: idna<4,>=2.5 in /Library/Python/3.9/site-packages (from requests<3.0,>=2.8.1->moviepy) (3.6)\n",
      "Requirement already satisfied: urllib3<3,>=1.21.1 in /Library/Python/3.9/site-packages (from requests<3.0,>=2.8.1->moviepy) (2.1.0)\n",
      "Building wheels for collected packages: moviepy, imageio-ffmpeg\n",
      "  Building wheel for moviepy (setup.py) ... \u001b[?25ldone\n",
      "\u001b[?25h  Created wheel for moviepy: filename=moviepy-1.0.3-py3-none-any.whl size=110744 sha256=2157c32a89cb9ba4dd615df8ecd7ad5cf8288ca26fd2dadd6d5bc0961111d31e\n",
      "  Stored in directory: /Users/prateekchhikara/Library/Caches/pip/wheels/29/15/e4/4f790bec6acd51a00b67e8ee1394f0bc6e0135c315f8ff399a\n",
      "  Building wheel for imageio-ffmpeg (setup.py) ... \u001b[?25ldone\n",
      "\u001b[?25h  Created wheel for imageio-ffmpeg: filename=imageio_ffmpeg-0.5.1-py3-none-any.whl size=16725 sha256=f3a4b886eb55a113f5982eef093c72eb42ce517856164c9f761fa2afa802c05c\n",
      "  Stored in directory: /Users/prateekchhikara/Library/Caches/pip/wheels/a9/1f/a5/4902cfc75bc6b728b4c66e13f5e4863200337550b780ec7f33\n",
      "Successfully built moviepy imageio-ffmpeg\n",
      "Installing collected packages: proglog, imageio-ffmpeg, decorator, moviepy\n",
      "  Attempting uninstall: decorator\n",
      "    Found existing installation: decorator 5.1.1\n",
      "    Uninstalling decorator-5.1.1:\n",
      "      Successfully uninstalled decorator-5.1.1\n",
      "Successfully installed decorator-4.4.2 imageio-ffmpeg-0.5.1 moviepy-1.0.3 proglog-0.1.10\n",
      "\u001b[33mWARNING: You are using pip version 21.2.4; however, version 24.0 is available.\n",
      "You should consider upgrading via the '/Library/Developer/CommandLineTools/usr/bin/python3 -m pip install --upgrade pip' command.\u001b[0m\n"
     ]
    }
   ],
   "source": [
    "!python3 -m pip install moviepy"
   ]
  },
  {
   "cell_type": "code",
   "execution_count": 16,
   "metadata": {},
   "outputs": [
    {
     "name": "stdout",
     "output_type": "stream",
     "text": [
      "Defaulting to user installation because normal site-packages is not writeable\n",
      "Collecting funasr\n",
      "  Downloading funasr-1.0.27-py3-none-any.whl (693 kB)\n",
      "\u001b[K     |████████████████████████████████| 693 kB 5.0 MB/s eta 0:00:01\n",
      "\u001b[?25hCollecting modelscope\n",
      "  Downloading modelscope-1.15.0-py3-none-any.whl (5.7 MB)\n",
      "\u001b[K     |████████████████████████████████| 5.7 MB 33.7 MB/s eta 0:00:01\n",
      "\u001b[?25hCollecting jaconv\n",
      "  Downloading jaconv-0.3.4.tar.gz (16 kB)\n",
      "Collecting umap-learn\n",
      "  Downloading umap_learn-0.5.6-py3-none-any.whl (85 kB)\n",
      "\u001b[K     |████████████████████████████████| 85 kB 34.5 MB/s eta 0:00:01\n",
      "\u001b[?25hRequirement already satisfied: tqdm in /Users/prateekchhikara/Library/Python/3.9/lib/python/site-packages (from funasr) (4.66.1)\n",
      "Collecting torch-complex\n",
      "  Downloading torch_complex-0.4.3-py3-none-any.whl (9.1 kB)\n",
      "Collecting rotary-embedding-torch\n",
      "  Downloading rotary_embedding_torch-0.6.2-py3-none-any.whl (5.3 kB)\n",
      "Collecting librosa\n",
      "  Downloading librosa-0.10.2.post1-py3-none-any.whl (260 kB)\n",
      "\u001b[K     |████████████████████████████████| 260 kB 52.9 MB/s eta 0:00:01\n",
      "\u001b[?25hCollecting jieba\n",
      "  Downloading jieba-0.42.1.tar.gz (19.2 MB)\n",
      "\u001b[K     |████████████████████████████████| 19.2 MB 12.3 MB/s eta 0:00:01\n",
      "\u001b[?25hCollecting openai-whisper\n",
      "  Downloading openai-whisper-20231117.tar.gz (798 kB)\n",
      "\u001b[K     |████████████████████████████████| 798 kB 34.4 MB/s eta 0:00:01\n",
      "\u001b[?25h\u001b[33m  WARNING: Value for prefixed-purelib does not match. Please report this to <https://github.com/pypa/pip/issues/10151>\n",
      "  distutils: /private/var/folders/ld/4rqj3_0x36l6nvyq3xfrjnhr0000gn/T/pip-build-env-zqx9i00w/normal/lib/python3.9/site-packages\n",
      "  sysconfig: /Library/Python/3.9/site-packages\u001b[0m\n",
      "\u001b[33m  WARNING: Value for prefixed-platlib does not match. Please report this to <https://github.com/pypa/pip/issues/10151>\n",
      "  distutils: /private/var/folders/ld/4rqj3_0x36l6nvyq3xfrjnhr0000gn/T/pip-build-env-zqx9i00w/normal/lib/python3.9/site-packages\n",
      "  sysconfig: /Library/Python/3.9/site-packages\u001b[0m\n",
      "\u001b[33m  WARNING: Additional context:\n",
      "  user = False\n",
      "  home = None\n",
      "  root = None\n",
      "  prefix = '/private/var/folders/ld/4rqj3_0x36l6nvyq3xfrjnhr0000gn/T/pip-build-env-zqx9i00w/normal'\u001b[0m\n",
      "\u001b[33m  WARNING: Value for prefixed-purelib does not match. Please report this to <https://github.com/pypa/pip/issues/10151>\n",
      "  distutils: /private/var/folders/ld/4rqj3_0x36l6nvyq3xfrjnhr0000gn/T/pip-build-env-zqx9i00w/overlay/lib/python3.9/site-packages\n",
      "  sysconfig: /Library/Python/3.9/site-packages\u001b[0m\n",
      "\u001b[33m  WARNING: Value for prefixed-platlib does not match. Please report this to <https://github.com/pypa/pip/issues/10151>\n",
      "  distutils: /private/var/folders/ld/4rqj3_0x36l6nvyq3xfrjnhr0000gn/T/pip-build-env-zqx9i00w/overlay/lib/python3.9/site-packages\n",
      "  sysconfig: /Library/Python/3.9/site-packages\u001b[0m\n",
      "\u001b[33m  WARNING: Additional context:\n",
      "  user = False\n",
      "  home = None\n",
      "  root = None\n",
      "  prefix = '/private/var/folders/ld/4rqj3_0x36l6nvyq3xfrjnhr0000gn/T/pip-build-env-zqx9i00w/overlay'\u001b[0m\n",
      "  Installing build dependencies ... \u001b[?25ldone\n",
      "\u001b[?25h  Getting requirements to build wheel ... \u001b[?25ldone\n",
      "\u001b[?25h    Preparing wheel metadata ... \u001b[?25ldone\n",
      "\u001b[?25hCollecting hydra-core>=1.3.2\n",
      "  Downloading hydra_core-1.3.2-py3-none-any.whl (154 kB)\n",
      "\u001b[K     |████████████████████████████████| 154 kB 65.9 MB/s eta 0:00:01\n",
      "\u001b[?25hRequirement already satisfied: scipy>=1.4.1 in /Library/Python/3.9/site-packages (from funasr) (1.12.0)\n",
      "Collecting jamo\n",
      "  Downloading jamo-0.4.1-py3-none-any.whl (9.5 kB)\n",
      "Collecting soundfile>=0.12.1\n",
      "  Downloading soundfile-0.12.1-py2.py3-none-macosx_11_0_arm64.whl (1.1 MB)\n",
      "\u001b[K     |████████████████████████████████| 1.1 MB 9.8 MB/s eta 0:00:01\n",
      "\u001b[?25hCollecting kaldiio>=2.17.0\n",
      "  Downloading kaldiio-2.18.0-py3-none-any.whl (28 kB)\n",
      "Collecting tensorboardX\n",
      "  Downloading tensorboardX-2.6.2.2-py2.py3-none-any.whl (101 kB)\n",
      "\u001b[K     |████████████████████████████████| 101 kB 27.2 MB/s ta 0:00:01\n",
      "\u001b[?25hCollecting pytorch-wpe\n",
      "  Downloading pytorch_wpe-0.0.1-py3-none-any.whl (8.1 kB)\n",
      "Collecting editdistance>=0.5.2\n",
      "  Downloading editdistance-0.8.1-cp39-cp39-macosx_11_0_arm64.whl (79 kB)\n",
      "\u001b[K     |████████████████████████████████| 79 kB 30.1 MB/s eta 0:00:01\n",
      "\u001b[?25hRequirement already satisfied: PyYAML>=5.1.2 in /Users/prateekchhikara/Library/Python/3.9/lib/python/site-packages (from funasr) (6.0.1)\n",
      "Collecting sentencepiece\n",
      "  Downloading sentencepiece-0.2.0-cp39-cp39-macosx_11_0_arm64.whl (1.2 MB)\n",
      "\u001b[K     |████████████████████████████████| 1.2 MB 52.8 MB/s eta 0:00:01\n",
      "\u001b[?25hCollecting oss2\n",
      "  Downloading oss2-2.18.5.tar.gz (283 kB)\n",
      "\u001b[K     |████████████████████████████████| 283 kB 13.0 MB/s eta 0:00:01\n",
      "\u001b[?25hRequirement already satisfied: Pillow>=6.2.0 in /Library/Python/3.9/site-packages (from modelscope) (10.2.0)\n",
      "Requirement already satisfied: requests>=2.25 in /Library/Python/3.9/site-packages (from modelscope) (2.31.0)\n",
      "Collecting yapf\n",
      "  Downloading yapf-0.40.2-py3-none-any.whl (254 kB)\n",
      "\u001b[K     |████████████████████████████████| 254 kB 16.0 MB/s eta 0:00:01\n",
      "\u001b[?25hRequirement already satisfied: numpy in /Library/Python/3.9/site-packages (from modelscope) (1.26.3)\n",
      "Collecting datasets<2.19.0,>=2.16.0\n",
      "  Downloading datasets-2.18.0-py3-none-any.whl (510 kB)\n",
      "\u001b[K     |████████████████████████████████| 510 kB 81.3 MB/s eta 0:00:01\n",
      "\u001b[?25hRequirement already satisfied: python-dateutil>=2.1 in /Users/prateekchhikara/Library/Python/3.9/lib/python/site-packages (from modelscope) (2.8.2)\n",
      "Requirement already satisfied: attrs in /Users/prateekchhikara/Library/Python/3.9/lib/python/site-packages (from modelscope) (23.2.0)\n",
      "Collecting addict\n",
      "  Downloading addict-2.4.0-py3-none-any.whl (3.8 kB)\n",
      "Requirement already satisfied: huggingface-hub in /Users/prateekchhikara/Library/Python/3.9/lib/python/site-packages (from modelscope) (0.23.0)\n",
      "Requirement already satisfied: pandas in /Users/prateekchhikara/Library/Python/3.9/lib/python/site-packages (from modelscope) (2.2.1)\n",
      "Collecting einops\n",
      "  Downloading einops-0.8.0-py3-none-any.whl (43 kB)\n",
      "\u001b[K     |████████████████████████████████| 43 kB 13.6 MB/s eta 0:00:01\n",
      "\u001b[?25hRequirement already satisfied: pyarrow!=9.0.0,>=6.0.0 in /Users/prateekchhikara/Library/Python/3.9/lib/python/site-packages (from modelscope) (15.0.2)\n",
      "Requirement already satisfied: setuptools in /Library/Developer/CommandLineTools/Library/Frameworks/Python3.framework/Versions/3.9/lib/python3.9/site-packages (from modelscope) (58.0.4)\n",
      "Requirement already satisfied: filelock>=3.3.0 in /Users/prateekchhikara/Library/Python/3.9/lib/python/site-packages (from modelscope) (3.13.3)\n",
      "Requirement already satisfied: gast>=0.2.2 in /Library/Python/3.9/site-packages (from modelscope) (0.5.4)\n",
      "Requirement already satisfied: urllib3>=1.26 in /Library/Python/3.9/site-packages (from modelscope) (2.1.0)\n",
      "Collecting simplejson>=3.3.0\n",
      "  Downloading simplejson-3.19.2-cp39-cp39-macosx_11_0_arm64.whl (75 kB)\n",
      "\u001b[K     |████████████████████████████████| 75 kB 22.4 MB/s eta 0:00:01\n",
      "\u001b[?25hCollecting sortedcontainers>=1.5.9\n",
      "  Downloading sortedcontainers-2.4.0-py2.py3-none-any.whl (29 kB)\n",
      "Collecting multiprocess\n",
      "  Downloading multiprocess-0.70.16-py39-none-any.whl (133 kB)\n",
      "\u001b[K     |████████████████████████████████| 133 kB 83.1 MB/s eta 0:00:01\n",
      "\u001b[?25hCollecting dill<0.3.9,>=0.3.0\n",
      "  Downloading dill-0.3.8-py3-none-any.whl (116 kB)\n",
      "\u001b[K     |████████████████████████████████| 116 kB 83.8 MB/s eta 0:00:01\n",
      "\u001b[?25hCollecting aiohttp\n",
      "  Downloading aiohttp-3.9.5-cp39-cp39-macosx_11_0_arm64.whl (390 kB)\n",
      "\u001b[K     |████████████████████████████████| 390 kB 25.7 MB/s eta 0:00:01\n",
      "\u001b[?25hCollecting xxhash\n",
      "  Downloading xxhash-3.4.1-cp39-cp39-macosx_11_0_arm64.whl (30 kB)\n",
      "Collecting pyarrow-hotfix\n",
      "  Downloading pyarrow_hotfix-0.6-py3-none-any.whl (7.9 kB)\n",
      "Requirement already satisfied: packaging in /Users/prateekchhikara/Library/Python/3.9/lib/python/site-packages (from datasets<2.19.0,>=2.16.0->modelscope) (23.2)\n",
      "Collecting fsspec[http]<=2024.2.0,>=2023.1.0\n",
      "  Downloading fsspec-2024.2.0-py3-none-any.whl (170 kB)\n",
      "\u001b[K     |████████████████████████████████| 170 kB 70.2 MB/s eta 0:00:01\n",
      "\u001b[?25hCollecting aiosignal>=1.1.2\n",
      "  Downloading aiosignal-1.3.1-py3-none-any.whl (7.6 kB)\n",
      "Collecting multidict<7.0,>=4.5\n",
      "  Downloading multidict-6.0.5-cp39-cp39-macosx_11_0_arm64.whl (30 kB)\n",
      "Collecting frozenlist>=1.1.1\n",
      "  Downloading frozenlist-1.4.1-cp39-cp39-macosx_11_0_arm64.whl (53 kB)\n",
      "\u001b[K     |████████████████████████████████| 53 kB 18.3 MB/s eta 0:00:01\n",
      "\u001b[?25hCollecting yarl<2.0,>=1.0\n",
      "  Downloading yarl-1.9.4-cp39-cp39-macosx_11_0_arm64.whl (81 kB)\n",
      "\u001b[K     |████████████████████████████████| 81 kB 30.7 MB/s eta 0:00:01\n",
      "\u001b[?25hCollecting async-timeout<5.0,>=4.0\n",
      "  Downloading async_timeout-4.0.3-py3-none-any.whl (5.7 kB)\n",
      "Requirement already satisfied: typing-extensions>=3.7.4.3 in /Users/prateekchhikara/Library/Python/3.9/lib/python/site-packages (from huggingface-hub->modelscope) (4.9.0)\n",
      "Collecting omegaconf<2.4,>=2.2\n",
      "  Downloading omegaconf-2.3.0-py3-none-any.whl (79 kB)\n",
      "\u001b[K     |████████████████████████████████| 79 kB 40.4 MB/s eta 0:00:01\n",
      "\u001b[?25hCollecting antlr4-python3-runtime==4.9.*\n",
      "  Downloading antlr4-python3-runtime-4.9.3.tar.gz (117 kB)\n",
      "\u001b[K     |████████████████████████████████| 117 kB 67.9 MB/s eta 0:00:01\n",
      "\u001b[?25hRequirement already satisfied: six>=1.5 in /Library/Developer/CommandLineTools/Library/Frameworks/Python3.framework/Versions/3.9/lib/python3.9/site-packages (from python-dateutil>=2.1->modelscope) (1.15.0)\n",
      "Requirement already satisfied: charset-normalizer<4,>=2 in /Library/Python/3.9/site-packages (from requests>=2.25->modelscope) (3.3.2)\n",
      "Requirement already satisfied: idna<4,>=2.5 in /Library/Python/3.9/site-packages (from requests>=2.25->modelscope) (3.6)\n",
      "Requirement already satisfied: certifi>=2017.4.17 in /Library/Python/3.9/site-packages (from requests>=2.25->modelscope) (2023.11.17)\n",
      "Collecting cffi>=1.0\n",
      "  Downloading cffi-1.16.0-cp39-cp39-macosx_11_0_arm64.whl (176 kB)\n",
      "\u001b[K     |████████████████████████████████| 176 kB 55.0 MB/s eta 0:00:01\n",
      "\u001b[?25hCollecting pycparser\n",
      "  Downloading pycparser-2.22-py3-none-any.whl (117 kB)\n",
      "\u001b[K     |████████████████████████████████| 117 kB 61.0 MB/s eta 0:00:01\n",
      "\u001b[?25hRequirement already satisfied: scikit-learn>=0.20.0 in /Users/prateekchhikara/Library/Python/3.9/lib/python/site-packages (from librosa->funasr) (1.4.1.post1)\n",
      "Collecting audioread>=2.1.9\n",
      "  Downloading audioread-3.0.1-py3-none-any.whl (23 kB)\n",
      "Collecting msgpack>=1.0\n",
      "  Downloading msgpack-1.0.8-cp39-cp39-macosx_11_0_arm64.whl (85 kB)\n",
      "\u001b[K     |████████████████████████████████| 85 kB 25.2 MB/s eta 0:00:01\n",
      "\u001b[?25hCollecting soxr>=0.3.2\n",
      "  Downloading soxr-0.3.7-cp39-cp39-macosx_11_0_arm64.whl (390 kB)\n",
      "\u001b[K     |████████████████████████████████| 390 kB 36.9 MB/s eta 0:00:01\n",
      "\u001b[?25hRequirement already satisfied: decorator>=4.3.0 in /Users/prateekchhikara/Library/Python/3.9/lib/python/site-packages (from librosa->funasr) (4.4.2)\n",
      "Collecting numba>=0.51.0\n",
      "  Downloading numba-0.59.1-cp39-cp39-macosx_11_0_arm64.whl (2.6 MB)\n",
      "\u001b[K     |████████████████████████████████| 2.6 MB 23.3 MB/s eta 0:00:01\n",
      "\u001b[?25hRequirement already satisfied: joblib>=0.14 in /Users/prateekchhikara/Library/Python/3.9/lib/python/site-packages (from librosa->funasr) (1.3.2)\n",
      "Collecting pooch>=1.1\n",
      "  Downloading pooch-1.8.2-py3-none-any.whl (64 kB)\n",
      "\u001b[K     |████████████████████████████████| 64 kB 23.6 MB/s eta 0:00:01\n",
      "\u001b[?25hRequirement already satisfied: lazy-loader>=0.1 in /Library/Python/3.9/site-packages (from librosa->funasr) (0.3)\n",
      "Collecting llvmlite<0.43,>=0.42.0dev0\n",
      "  Downloading llvmlite-0.42.0-cp39-cp39-macosx_11_0_arm64.whl (28.8 MB)\n",
      "\u001b[K     |████████████████████████████████| 28.8 MB 81.9 MB/s eta 0:00:01\n",
      "\u001b[?25hRequirement already satisfied: platformdirs>=2.5.0 in /Users/prateekchhikara/Library/Python/3.9/lib/python/site-packages (from pooch>=1.1->librosa->funasr) (4.1.0)\n",
      "Requirement already satisfied: threadpoolctl>=2.0.0 in /Users/prateekchhikara/Library/Python/3.9/lib/python/site-packages (from scikit-learn>=0.20.0->librosa->funasr) (3.4.0)\n",
      "Collecting more-itertools\n",
      "  Downloading more_itertools-10.2.0-py3-none-any.whl (57 kB)\n",
      "\u001b[K     |████████████████████████████████| 57 kB 28.2 MB/s eta 0:00:01\n",
      "\u001b[?25hRequirement already satisfied: torch in /Users/prateekchhikara/Library/Python/3.9/lib/python/site-packages (from openai-whisper->funasr) (2.3.0)\n",
      "Collecting tiktoken\n",
      "  Downloading tiktoken-0.7.0-cp39-cp39-macosx_11_0_arm64.whl (907 kB)\n",
      "\u001b[K     |████████████████████████████████| 907 kB 27.1 MB/s eta 0:00:01\n",
      "\u001b[?25hCollecting crcmod>=1.7\n",
      "  Downloading crcmod-1.7.tar.gz (89 kB)\n",
      "\u001b[K     |████████████████████████████████| 89 kB 10.6 MB/s eta 0:00:01\n",
      "\u001b[?25hCollecting pycryptodome>=3.4.7\n",
      "  Downloading pycryptodome-3.20.0-cp35-abi3-macosx_10_9_universal2.whl (2.4 MB)\n",
      "\u001b[K     |████████████████████████████████| 2.4 MB 24.1 MB/s eta 0:00:01\n",
      "\u001b[?25hCollecting aliyun-python-sdk-kms>=2.4.1\n",
      "  Downloading aliyun_python_sdk_kms-2.16.3-py2.py3-none-any.whl (98 kB)\n",
      "\u001b[K     |████████████████████████████████| 98 kB 46.3 MB/s eta 0:00:01\n",
      "\u001b[?25hCollecting aliyun-python-sdk-core>=2.13.12\n",
      "  Downloading aliyun-python-sdk-core-2.15.1.tar.gz (443 kB)\n",
      "\u001b[K     |████████████████████████████████| 443 kB 6.2 MB/s eta 0:00:01\n",
      "\u001b[?25hCollecting jmespath<1.0.0,>=0.9.3\n",
      "  Downloading jmespath-0.10.0-py2.py3-none-any.whl (24 kB)\n",
      "Collecting cryptography>=2.6.0\n",
      "  Downloading cryptography-42.0.8-cp39-abi3-macosx_10_12_universal2.whl (5.9 MB)\n",
      "\u001b[K     |████████████████████████████████| 5.9 MB 64.1 MB/s eta 0:00:01\n",
      "\u001b[?25hRequirement already satisfied: tzdata>=2022.7 in /Users/prateekchhikara/Library/Python/3.9/lib/python/site-packages (from pandas->modelscope) (2024.1)\n",
      "Requirement already satisfied: pytz>=2020.1 in /Users/prateekchhikara/Library/Python/3.9/lib/python/site-packages (from pandas->modelscope) (2024.1)\n",
      "Collecting beartype\n",
      "  Downloading beartype-0.18.5-py3-none-any.whl (917 kB)\n",
      "\u001b[K     |████████████████████████████████| 917 kB 22.2 MB/s eta 0:00:01\n",
      "\u001b[?25hRequirement already satisfied: jinja2 in /Users/prateekchhikara/Library/Python/3.9/lib/python/site-packages (from torch->openai-whisper->funasr) (3.1.3)\n",
      "Requirement already satisfied: sympy in /Users/prateekchhikara/Library/Python/3.9/lib/python/site-packages (from torch->openai-whisper->funasr) (1.12)\n",
      "Requirement already satisfied: networkx in /Library/Python/3.9/site-packages (from torch->openai-whisper->funasr) (3.2.1)\n",
      "Requirement already satisfied: MarkupSafe>=2.0 in /Library/Python/3.9/site-packages (from jinja2->torch->openai-whisper->funasr) (2.1.4)\n",
      "Requirement already satisfied: mpmath>=0.19 in /Users/prateekchhikara/Library/Python/3.9/lib/python/site-packages (from sympy->torch->openai-whisper->funasr) (1.3.0)\n",
      "Requirement already satisfied: protobuf>=3.20 in /Library/Python/3.9/site-packages (from tensorboardX->funasr) (4.23.4)\n",
      "Collecting regex>=2022.1.18\n",
      "  Downloading regex-2024.5.15-cp39-cp39-macosx_11_0_arm64.whl (278 kB)\n",
      "\u001b[K     |████████████████████████████████| 278 kB 38.3 MB/s eta 0:00:01\n",
      "\u001b[?25hCollecting pynndescent>=0.5\n",
      "  Downloading pynndescent-0.5.12-py3-none-any.whl (56 kB)\n",
      "\u001b[K     |████████████████████████████████| 56 kB 21.1 MB/s eta 0:00:01\n",
      "\u001b[?25hRequirement already satisfied: importlib-metadata>=6.6.0 in /Users/prateekchhikara/Library/Python/3.9/lib/python/site-packages (from yapf->modelscope) (7.0.1)\n",
      "Collecting tomli>=2.0.1\n",
      "  Downloading tomli-2.0.1-py3-none-any.whl (12 kB)\n",
      "Requirement already satisfied: zipp>=0.5 in /Users/prateekchhikara/Library/Python/3.9/lib/python/site-packages (from importlib-metadata>=6.6.0->yapf->modelscope) (3.17.0)\n",
      "Building wheels for collected packages: antlr4-python3-runtime, jaconv, jieba, openai-whisper, oss2, aliyun-python-sdk-core, crcmod\n",
      "  Building wheel for antlr4-python3-runtime (setup.py) ... \u001b[?25ldone\n",
      "\u001b[?25h  Created wheel for antlr4-python3-runtime: filename=antlr4_python3_runtime-4.9.3-py3-none-any.whl size=144575 sha256=0f8157780a5f215075adc11aa3647709dc40438fa32eed406f907909e7cab443\n",
      "  Stored in directory: /Users/prateekchhikara/Library/Caches/pip/wheels/23/cf/80/f3efa822e6ab23277902ee9165fe772eeb1dfb8014f359020a\n",
      "  Building wheel for jaconv (setup.py) ... \u001b[?25ldone\n",
      "\u001b[?25h  Created wheel for jaconv: filename=jaconv-0.3.4-py3-none-any.whl size=16415 sha256=f418fd391fd24da7a3f3602cce22e129d8c0ac11c7d1e3e176b7232db79ed35d\n",
      "  Stored in directory: /Users/prateekchhikara/Library/Caches/pip/wheels/49/de/f1/55f605920db3666d30215331bc85f24686dde9b95b473ae41b\n",
      "  Building wheel for jieba (setup.py) ... \u001b[?25ldone\n",
      "\u001b[?25h  Created wheel for jieba: filename=jieba-0.42.1-py3-none-any.whl size=19314476 sha256=9ebec5f333eea2d30e01d56b69f0f2425f6b05c7cbcc48e18efd7b4eda9be3aa\n",
      "  Stored in directory: /Users/prateekchhikara/Library/Caches/pip/wheels/7d/74/cf/08c94db4b784e2c1ef675a600b7b5b281fd25240dcb954ee7e\n",
      "  Building wheel for openai-whisper (PEP 517) ... \u001b[?25ldone\n",
      "\u001b[?25h  Created wheel for openai-whisper: filename=openai_whisper-20231117-py3-none-any.whl size=801359 sha256=54a67cc5e91aa1cfac6cf1bac6f22f0e585b0fa1930ee2c14b2a1ef79efe3765\n",
      "  Stored in directory: /Users/prateekchhikara/Library/Caches/pip/wheels/f5/77/96/4bb7b94449a47b726127100ad66bd72cba123fb4d0a8948473\n",
      "  Building wheel for oss2 (setup.py) ... \u001b[?25ldone\n",
      "\u001b[?25h  Created wheel for oss2: filename=oss2-2.18.5-py3-none-any.whl size=118173 sha256=8980a4b3b9c3bcda9e43a98719a151cbcd69c81e155cf0e13c59c181804f75c9\n",
      "  Stored in directory: /Users/prateekchhikara/Library/Caches/pip/wheels/3c/0c/87/2893de6ebd9e7670f8bf6f9302677c40d411ffc645f15c6a8b\n",
      "  Building wheel for aliyun-python-sdk-core (setup.py) ... \u001b[?25ldone\n",
      "\u001b[?25h  Created wheel for aliyun-python-sdk-core: filename=aliyun_python_sdk_core-2.15.1-py3-none-any.whl size=535333 sha256=86b3b25ca3670599a621e9b57147ecbdafe09bd50af08699adf624b9dec3ad76\n",
      "  Stored in directory: /Users/prateekchhikara/Library/Caches/pip/wheels/d6/cb/fc/580f017ef31d26f859fc1c830ea7e8867497a9ec220b4239a7\n",
      "  Building wheel for crcmod (setup.py) ... \u001b[?25ldone\n",
      "\u001b[?25h  Created wheel for crcmod: filename=crcmod-1.7-cp39-cp39-macosx_10_9_universal2.whl size=25215 sha256=ba98dbdb567bd3c9161c1cec5ae0c1123deb9ef647a8f3c493b8f80b304a720f\n",
      "  Stored in directory: /Users/prateekchhikara/Library/Caches/pip/wheels/4a/6c/a6/ffdd136310039bf226f2707a9a8e6857be7d70a3fc061f6b36\n",
      "Successfully built antlr4-python3-runtime jaconv jieba openai-whisper oss2 aliyun-python-sdk-core crcmod\n",
      "Installing collected packages: pycparser, multidict, frozenlist, cffi, yarl, llvmlite, jmespath, cryptography, async-timeout, aiosignal, regex, numba, fsspec, dill, antlr4-python3-runtime, aliyun-python-sdk-core, aiohttp, xxhash, tomli, tiktoken, soxr, soundfile, pynndescent, pycryptodome, pyarrow-hotfix, pooch, omegaconf, multiprocess, msgpack, more-itertools, einops, crcmod, beartype, audioread, aliyun-python-sdk-kms, yapf, umap-learn, torch-complex, tensorboardX, sortedcontainers, simplejson, sentencepiece, rotary-embedding-torch, pytorch-wpe, oss2, openai-whisper, librosa, kaldiio, jieba, jamo, jaconv, hydra-core, editdistance, datasets, addict, modelscope, funasr\n",
      "  Attempting uninstall: fsspec\n",
      "    Found existing installation: fsspec 2024.3.1\n",
      "    Uninstalling fsspec-2024.3.1:\n",
      "      Successfully uninstalled fsspec-2024.3.1\n",
      "Successfully installed addict-2.4.0 aiohttp-3.9.5 aiosignal-1.3.1 aliyun-python-sdk-core-2.15.1 aliyun-python-sdk-kms-2.16.3 antlr4-python3-runtime-4.9.3 async-timeout-4.0.3 audioread-3.0.1 beartype-0.18.5 cffi-1.16.0 crcmod-1.7 cryptography-42.0.8 datasets-2.18.0 dill-0.3.8 editdistance-0.8.1 einops-0.8.0 frozenlist-1.4.1 fsspec-2024.2.0 funasr-1.0.27 hydra-core-1.3.2 jaconv-0.3.4 jamo-0.4.1 jieba-0.42.1 jmespath-0.10.0 kaldiio-2.18.0 librosa-0.10.2.post1 llvmlite-0.42.0 modelscope-1.15.0 more-itertools-10.2.0 msgpack-1.0.8 multidict-6.0.5 multiprocess-0.70.16 numba-0.59.1 omegaconf-2.3.0 openai-whisper-20231117 oss2-2.18.5 pooch-1.8.2 pyarrow-hotfix-0.6 pycparser-2.22 pycryptodome-3.20.0 pynndescent-0.5.12 pytorch-wpe-0.0.1 regex-2024.5.15 rotary-embedding-torch-0.6.2 sentencepiece-0.2.0 simplejson-3.19.2 sortedcontainers-2.4.0 soundfile-0.12.1 soxr-0.3.7 tensorboardX-2.6.2.2 tiktoken-0.7.0 tomli-2.0.1 torch-complex-0.4.3 umap-learn-0.5.6 xxhash-3.4.1 yapf-0.40.2 yarl-1.9.4\n",
      "\u001b[33mWARNING: You are using pip version 21.2.4; however, version 24.0 is available.\n",
      "You should consider upgrading via the '/Library/Developer/CommandLineTools/usr/bin/python3 -m pip install --upgrade pip' command.\u001b[0m\n"
     ]
    }
   ],
   "source": [
    "!python3 -m pip install -U funasr modelscope"
   ]
  },
  {
   "cell_type": "code",
   "execution_count": 19,
   "metadata": {},
   "outputs": [
    {
     "name": "stderr",
     "output_type": "stream",
     "text": [
      "Downloading: 100%|██████████| 6.00k/6.00k [00:00<00:00, 7.66kB/s]\n",
      "Downloading: 100%|██████████| 3.10k/3.10k [00:00<00:00, 4.13kB/s]\n",
      "Downloading: 100%|██████████| 343/343 [00:00<00:00, 409B/s]\n",
      "Downloading: 100%|██████████| 267k/267k [00:00<00:00, 321kB/s]\n",
      "Downloading: 100%|██████████| 666k/666k [00:00<00:00, 833kB/s]\n",
      "Downloading: 100%|██████████| 1.76M/1.76M [00:00<00:00, 2.05MB/s]\n",
      "Downloading: 100%|██████████| 1.04G/1.04G [00:53<00:00, 20.9MB/s]\n",
      "Downloading: 100%|██████████| 5.18k/5.18k [00:00<00:00, 6.84kB/s]\n",
      "Downloading: 100%|██████████| 128k/128k [00:00<00:00, 135kB/s]\n",
      "Downloading: 100%|██████████| 90.0/90.0 [00:00<00:00, 107B/s]\n",
      "2024-06-08 16:29:15,389 - modelscope - INFO - initiate model from /Users/prateekchhikara/.cache/modelscope/hub/iic/emotion2vec_plus_base\n",
      "2024-06-08 16:29:15,390 - modelscope - INFO - initiate model from location /Users/prateekchhikara/.cache/modelscope/hub/iic/emotion2vec_plus_base.\n",
      "2024-06-08 16:29:15,392 - modelscope - INFO - initialize model from /Users/prateekchhikara/.cache/modelscope/hub/iic/emotion2vec_plus_base\n"
     ]
    },
    {
     "ename": "ModuleNotFoundError",
     "evalue": "FunASRPipeline: No module named 'torchaudio'",
     "output_type": "error",
     "traceback": [
      "\u001b[0;31m---------------------------------------------------------------------------\u001b[0m",
      "\u001b[0;31mModuleNotFoundError\u001b[0m                       Traceback (most recent call last)",
      "File \u001b[0;32m~/Library/Python/3.9/lib/python/site-packages/modelscope/utils/registry.py:212\u001b[0m, in \u001b[0;36mbuild_from_cfg\u001b[0;34m(cfg, registry, group_key, default_args)\u001b[0m\n\u001b[1;32m    211\u001b[0m     \u001b[38;5;28;01melse\u001b[39;00m:\n\u001b[0;32m--> 212\u001b[0m         \u001b[38;5;28;01mreturn\u001b[39;00m \u001b[43mobj_cls\u001b[49m\u001b[43m(\u001b[49m\u001b[38;5;241;43m*\u001b[39;49m\u001b[38;5;241;43m*\u001b[39;49m\u001b[43margs\u001b[49m\u001b[43m)\u001b[49m\n\u001b[1;32m    213\u001b[0m \u001b[38;5;28;01mexcept\u001b[39;00m \u001b[38;5;167;01mException\u001b[39;00m \u001b[38;5;28;01mas\u001b[39;00m e:\n\u001b[1;32m    214\u001b[0m     \u001b[38;5;66;03m# Normal TypeError does not print class name.\u001b[39;00m\n",
      "File \u001b[0;32m~/Library/Python/3.9/lib/python/site-packages/modelscope/pipelines/audio/funasr_pipeline.py:62\u001b[0m, in \u001b[0;36mFunASRPipeline.__init__\u001b[0;34m(self, model, **kwargs)\u001b[0m\n\u001b[1;32m     60\u001b[0m \u001b[38;5;250m\u001b[39m\u001b[38;5;124;03m\"\"\"use `model` to create an vad pipeline for prediction\u001b[39;00m\n\u001b[1;32m     61\u001b[0m \u001b[38;5;124;03m\"\"\"\u001b[39;00m\n\u001b[0;32m---> 62\u001b[0m \u001b[38;5;28;43msuper\u001b[39;49m\u001b[43m(\u001b[49m\u001b[43m)\u001b[49m\u001b[38;5;241;43m.\u001b[39;49m\u001b[38;5;21;43m__init__\u001b[39;49m\u001b[43m(\u001b[49m\u001b[43mmodel\u001b[49m\u001b[38;5;241;43m=\u001b[39;49m\u001b[43mmodel\u001b[49m\u001b[43m,\u001b[49m\u001b[43m \u001b[49m\u001b[38;5;241;43m*\u001b[39;49m\u001b[38;5;241;43m*\u001b[39;49m\u001b[43mkwargs\u001b[49m\u001b[43m)\u001b[49m\n",
      "File \u001b[0;32m~/Library/Python/3.9/lib/python/site-packages/modelscope/pipelines/base.py:100\u001b[0m, in \u001b[0;36mPipeline.__init__\u001b[0;34m(self, config_file, model, preprocessor, device, auto_collate, device_map, **kwargs)\u001b[0m\n\u001b[1;32m     99\u001b[0m \u001b[38;5;28;01mif\u001b[39;00m \u001b[38;5;129;01mnot\u001b[39;00m \u001b[38;5;28misinstance\u001b[39m(model, List):\n\u001b[0;32m--> 100\u001b[0m     \u001b[38;5;28mself\u001b[39m\u001b[38;5;241m.\u001b[39mmodel \u001b[38;5;241m=\u001b[39m \u001b[38;5;28;43mself\u001b[39;49m\u001b[38;5;241;43m.\u001b[39;49m\u001b[43minitiate_single_model\u001b[49m\u001b[43m(\u001b[49m\u001b[43mmodel\u001b[49m\u001b[43m,\u001b[49m\u001b[43m \u001b[49m\u001b[38;5;241;43m*\u001b[39;49m\u001b[38;5;241;43m*\u001b[39;49m\u001b[43mkwargs\u001b[49m\u001b[43m)\u001b[49m\n\u001b[1;32m    101\u001b[0m     \u001b[38;5;28mself\u001b[39m\u001b[38;5;241m.\u001b[39mmodels \u001b[38;5;241m=\u001b[39m [\u001b[38;5;28mself\u001b[39m\u001b[38;5;241m.\u001b[39mmodel]\n",
      "File \u001b[0;32m~/Library/Python/3.9/lib/python/site-packages/modelscope/pipelines/base.py:53\u001b[0m, in \u001b[0;36mPipeline.initiate_single_model\u001b[0;34m(self, model, **kwargs)\u001b[0m\n\u001b[1;32m     52\u001b[0m     \u001b[38;5;66;03m# expecting model has been prefetched to local cache beforehand\u001b[39;00m\n\u001b[0;32m---> 53\u001b[0m     \u001b[38;5;28;01mreturn\u001b[39;00m \u001b[43mModel\u001b[49m\u001b[38;5;241;43m.\u001b[39;49m\u001b[43mfrom_pretrained\u001b[49m\u001b[43m(\u001b[49m\n\u001b[1;32m     54\u001b[0m \u001b[43m        \u001b[49m\u001b[43mmodel\u001b[49m\u001b[43m,\u001b[49m\n\u001b[1;32m     55\u001b[0m \u001b[43m        \u001b[49m\u001b[43mdevice\u001b[49m\u001b[38;5;241;43m=\u001b[39;49m\u001b[38;5;28;43mself\u001b[39;49m\u001b[38;5;241;43m.\u001b[39;49m\u001b[43mdevice_name\u001b[49m\u001b[43m,\u001b[49m\n\u001b[1;32m     56\u001b[0m \u001b[43m        \u001b[49m\u001b[43mmodel_prefetched\u001b[49m\u001b[38;5;241;43m=\u001b[39;49m\u001b[38;5;28;43;01mTrue\u001b[39;49;00m\u001b[43m,\u001b[49m\n\u001b[1;32m     57\u001b[0m \u001b[43m        \u001b[49m\u001b[43minvoked_by\u001b[49m\u001b[38;5;241;43m=\u001b[39;49m\u001b[43mInvoke\u001b[49m\u001b[38;5;241;43m.\u001b[39;49m\u001b[43mPIPELINE\u001b[49m\u001b[43m,\u001b[49m\n\u001b[1;32m     58\u001b[0m \u001b[43m        \u001b[49m\u001b[43mdevice_map\u001b[49m\u001b[38;5;241;43m=\u001b[39;49m\u001b[38;5;28;43mself\u001b[39;49m\u001b[38;5;241;43m.\u001b[39;49m\u001b[43mdevice_map\u001b[49m\u001b[43m,\u001b[49m\n\u001b[1;32m     59\u001b[0m \u001b[43m        \u001b[49m\u001b[38;5;241;43m*\u001b[39;49m\u001b[38;5;241;43m*\u001b[39;49m\u001b[43mkwargs\u001b[49m\u001b[43m)\u001b[49m \u001b[38;5;28;01mif\u001b[39;00m is_model(model) \u001b[38;5;28;01melse\u001b[39;00m model\n\u001b[1;32m     60\u001b[0m \u001b[38;5;28;01melse\u001b[39;00m:\n",
      "File \u001b[0;32m~/Library/Python/3.9/lib/python/site-packages/modelscope/models/base/base_model.py:183\u001b[0m, in \u001b[0;36mModel.from_pretrained\u001b[0;34m(cls, model_name_or_path, revision, cfg_dict, device, **kwargs)\u001b[0m\n\u001b[1;32m    182\u001b[0m \u001b[38;5;28;01melse\u001b[39;00m:\n\u001b[0;32m--> 183\u001b[0m     model \u001b[38;5;241m=\u001b[39m \u001b[43mbuild_model\u001b[49m\u001b[43m(\u001b[49m\u001b[43mmodel_cfg\u001b[49m\u001b[43m,\u001b[49m\u001b[43m \u001b[49m\u001b[43mtask_name\u001b[49m\u001b[38;5;241;43m=\u001b[39;49m\u001b[43mtask_name\u001b[49m\u001b[43m)\u001b[49m\n\u001b[1;32m    185\u001b[0m \u001b[38;5;66;03m# dynamically add pipeline info to model for pipeline inference\u001b[39;00m\n",
      "File \u001b[0;32m~/Library/Python/3.9/lib/python/site-packages/modelscope/models/builder.py:35\u001b[0m, in \u001b[0;36mbuild_model\u001b[0;34m(cfg, task_name, default_args)\u001b[0m\n\u001b[1;32m     34\u001b[0m \u001b[38;5;28;01mtry\u001b[39;00m:\n\u001b[0;32m---> 35\u001b[0m     model \u001b[38;5;241m=\u001b[39m \u001b[43mbuild_from_cfg\u001b[49m\u001b[43m(\u001b[49m\n\u001b[1;32m     36\u001b[0m \u001b[43m        \u001b[49m\u001b[43mcfg\u001b[49m\u001b[43m,\u001b[49m\u001b[43m \u001b[49m\u001b[43mMODELS\u001b[49m\u001b[43m,\u001b[49m\u001b[43m \u001b[49m\u001b[43mgroup_key\u001b[49m\u001b[38;5;241;43m=\u001b[39;49m\u001b[43mtask_name\u001b[49m\u001b[43m,\u001b[49m\u001b[43m \u001b[49m\u001b[43mdefault_args\u001b[49m\u001b[38;5;241;43m=\u001b[39;49m\u001b[43mdefault_args\u001b[49m\u001b[43m)\u001b[49m\n\u001b[1;32m     37\u001b[0m \u001b[38;5;28;01mexcept\u001b[39;00m \u001b[38;5;167;01mKeyError\u001b[39;00m \u001b[38;5;28;01mas\u001b[39;00m e:\n\u001b[1;32m     38\u001b[0m     \u001b[38;5;66;03m# Handle subtask with a backbone model that hasn't been registered\u001b[39;00m\n\u001b[1;32m     39\u001b[0m     \u001b[38;5;66;03m# All the subtask with a parent task should have a task model, otherwise it is not a\u001b[39;00m\n\u001b[1;32m     40\u001b[0m     \u001b[38;5;66;03m# valid subtask\u001b[39;00m\n",
      "File \u001b[0;32m~/Library/Python/3.9/lib/python/site-packages/modelscope/utils/registry.py:184\u001b[0m, in \u001b[0;36mbuild_from_cfg\u001b[0;34m(cfg, registry, group_key, default_args)\u001b[0m\n\u001b[1;32m    183\u001b[0m sig \u001b[38;5;241m=\u001b[39m (registry\u001b[38;5;241m.\u001b[39mname\u001b[38;5;241m.\u001b[39mupper(), group_key, cfg[\u001b[38;5;124m'\u001b[39m\u001b[38;5;124mtype\u001b[39m\u001b[38;5;124m'\u001b[39m])\n\u001b[0;32m--> 184\u001b[0m \u001b[43mLazyImportModule\u001b[49m\u001b[38;5;241;43m.\u001b[39;49m\u001b[43mimport_module\u001b[49m\u001b[43m(\u001b[49m\u001b[43msig\u001b[49m\u001b[43m)\u001b[49m\n\u001b[1;32m    186\u001b[0m args \u001b[38;5;241m=\u001b[39m cfg\u001b[38;5;241m.\u001b[39mcopy()\n",
      "File \u001b[0;32m~/Library/Python/3.9/lib/python/site-packages/modelscope/utils/import_utils.py:475\u001b[0m, in \u001b[0;36mLazyImportModule.import_module\u001b[0;34m(signature)\u001b[0m\n\u001b[1;32m    474\u001b[0m         requires(module_name, requirements)\n\u001b[0;32m--> 475\u001b[0m     \u001b[43mimportlib\u001b[49m\u001b[38;5;241;43m.\u001b[39;49m\u001b[43mimport_module\u001b[49m\u001b[43m(\u001b[49m\u001b[43mmodule_name\u001b[49m\u001b[43m)\u001b[49m\n\u001b[1;32m    476\u001b[0m \u001b[38;5;28;01melse\u001b[39;00m:\n",
      "File \u001b[0;32m/Library/Developer/CommandLineTools/Library/Frameworks/Python3.framework/Versions/3.9/lib/python3.9/importlib/__init__.py:127\u001b[0m, in \u001b[0;36mimport_module\u001b[0;34m(name, package)\u001b[0m\n\u001b[1;32m    126\u001b[0m         level \u001b[38;5;241m+\u001b[39m\u001b[38;5;241m=\u001b[39m \u001b[38;5;241m1\u001b[39m\n\u001b[0;32m--> 127\u001b[0m \u001b[38;5;28;01mreturn\u001b[39;00m \u001b[43m_bootstrap\u001b[49m\u001b[38;5;241;43m.\u001b[39;49m\u001b[43m_gcd_import\u001b[49m\u001b[43m(\u001b[49m\u001b[43mname\u001b[49m\u001b[43m[\u001b[49m\u001b[43mlevel\u001b[49m\u001b[43m:\u001b[49m\u001b[43m]\u001b[49m\u001b[43m,\u001b[49m\u001b[43m \u001b[49m\u001b[43mpackage\u001b[49m\u001b[43m,\u001b[49m\u001b[43m \u001b[49m\u001b[43mlevel\u001b[49m\u001b[43m)\u001b[49m\n",
      "File \u001b[0;32m<frozen importlib._bootstrap>:1030\u001b[0m, in \u001b[0;36m_gcd_import\u001b[0;34m(name, package, level)\u001b[0m\n",
      "File \u001b[0;32m<frozen importlib._bootstrap>:1007\u001b[0m, in \u001b[0;36m_find_and_load\u001b[0;34m(name, import_)\u001b[0m\n",
      "File \u001b[0;32m<frozen importlib._bootstrap>:986\u001b[0m, in \u001b[0;36m_find_and_load_unlocked\u001b[0;34m(name, import_)\u001b[0m\n",
      "File \u001b[0;32m<frozen importlib._bootstrap>:680\u001b[0m, in \u001b[0;36m_load_unlocked\u001b[0;34m(spec)\u001b[0m\n",
      "File \u001b[0;32m<frozen importlib._bootstrap_external>:850\u001b[0m, in \u001b[0;36mexec_module\u001b[0;34m(self, module)\u001b[0m\n",
      "File \u001b[0;32m<frozen importlib._bootstrap>:228\u001b[0m, in \u001b[0;36m_call_with_frames_removed\u001b[0;34m(f, *args, **kwds)\u001b[0m\n",
      "File \u001b[0;32m~/Library/Python/3.9/lib/python/site-packages/modelscope/models/audio/funasr/model.py:7\u001b[0m\n\u001b[1;32m      6\u001b[0m \u001b[38;5;28;01mimport\u001b[39;00m \u001b[38;5;21;01mjson\u001b[39;00m\n\u001b[0;32m----> 7\u001b[0m \u001b[38;5;28;01mfrom\u001b[39;00m \u001b[38;5;21;01mfunasr\u001b[39;00m \u001b[38;5;28;01mimport\u001b[39;00m AutoModel\n\u001b[1;32m      9\u001b[0m \u001b[38;5;28;01mfrom\u001b[39;00m \u001b[38;5;21;01mmodelscope\u001b[39;00m\u001b[38;5;21;01m.\u001b[39;00m\u001b[38;5;21;01mmetainfo\u001b[39;00m \u001b[38;5;28;01mimport\u001b[39;00m Models\n",
      "File \u001b[0;32m~/Library/Python/3.9/lib/python/site-packages/funasr/__init__.py:41\u001b[0m\n\u001b[1;32m     39\u001b[0m import_submodules(\u001b[38;5;18m__name__\u001b[39m)\n\u001b[0;32m---> 41\u001b[0m \u001b[38;5;28;01mfrom\u001b[39;00m \u001b[38;5;21;01mfunasr\u001b[39;00m\u001b[38;5;21;01m.\u001b[39;00m\u001b[38;5;21;01mauto\u001b[39;00m\u001b[38;5;21;01m.\u001b[39;00m\u001b[38;5;21;01mauto_model\u001b[39;00m \u001b[38;5;28;01mimport\u001b[39;00m AutoModel\n\u001b[1;32m     42\u001b[0m \u001b[38;5;28;01mfrom\u001b[39;00m \u001b[38;5;21;01mfunasr\u001b[39;00m\u001b[38;5;21;01m.\u001b[39;00m\u001b[38;5;21;01mauto\u001b[39;00m\u001b[38;5;21;01m.\u001b[39;00m\u001b[38;5;21;01mauto_frontend\u001b[39;00m \u001b[38;5;28;01mimport\u001b[39;00m AutoFrontend\n",
      "File \u001b[0;32m~/Library/Python/3.9/lib/python/site-packages/funasr/auto/auto_model.py:19\u001b[0m\n\u001b[1;32m     18\u001b[0m \u001b[38;5;28;01mfrom\u001b[39;00m \u001b[38;5;21;01mfunasr\u001b[39;00m\u001b[38;5;21;01m.\u001b[39;00m\u001b[38;5;21;01mregister\u001b[39;00m \u001b[38;5;28;01mimport\u001b[39;00m tables\n\u001b[0;32m---> 19\u001b[0m \u001b[38;5;28;01mfrom\u001b[39;00m \u001b[38;5;21;01mfunasr\u001b[39;00m\u001b[38;5;21;01m.\u001b[39;00m\u001b[38;5;21;01mutils\u001b[39;00m\u001b[38;5;21;01m.\u001b[39;00m\u001b[38;5;21;01mload_utils\u001b[39;00m \u001b[38;5;28;01mimport\u001b[39;00m load_bytes\n\u001b[1;32m     20\u001b[0m \u001b[38;5;28;01mfrom\u001b[39;00m \u001b[38;5;21;01mfunasr\u001b[39;00m\u001b[38;5;21;01m.\u001b[39;00m\u001b[38;5;21;01mdownload\u001b[39;00m\u001b[38;5;21;01m.\u001b[39;00m\u001b[38;5;21;01mfile\u001b[39;00m \u001b[38;5;28;01mimport\u001b[39;00m download_from_url\n",
      "File \u001b[0;32m~/Library/Python/3.9/lib/python/site-packages/funasr/utils/load_utils.py:8\u001b[0m\n\u001b[1;32m      7\u001b[0m \u001b[38;5;28;01mimport\u001b[39;00m \u001b[38;5;21;01mlibrosa\u001b[39;00m\n\u001b[0;32m----> 8\u001b[0m \u001b[38;5;28;01mimport\u001b[39;00m \u001b[38;5;21;01mtorchaudio\u001b[39;00m\n\u001b[1;32m      9\u001b[0m \u001b[38;5;28;01mimport\u001b[39;00m \u001b[38;5;21;01mtime\u001b[39;00m\n",
      "\u001b[0;31mModuleNotFoundError\u001b[0m: No module named 'torchaudio'",
      "\nDuring handling of the above exception, another exception occurred:\n",
      "\u001b[0;31mModuleNotFoundError\u001b[0m                       Traceback (most recent call last)",
      "Cell \u001b[0;32mIn[19], line 29\u001b[0m\n\u001b[1;32m     26\u001b[0m \u001b[38;5;28;01mfrom\u001b[39;00m \u001b[38;5;21;01mmodelscope\u001b[39;00m\u001b[38;5;21;01m.\u001b[39;00m\u001b[38;5;21;01mpipelines\u001b[39;00m \u001b[38;5;28;01mimport\u001b[39;00m pipeline\n\u001b[1;32m     27\u001b[0m \u001b[38;5;28;01mfrom\u001b[39;00m \u001b[38;5;21;01mmodelscope\u001b[39;00m\u001b[38;5;21;01m.\u001b[39;00m\u001b[38;5;21;01mutils\u001b[39;00m\u001b[38;5;21;01m.\u001b[39;00m\u001b[38;5;21;01mconstant\u001b[39;00m \u001b[38;5;28;01mimport\u001b[39;00m Tasks\n\u001b[0;32m---> 29\u001b[0m inference_pipeline \u001b[38;5;241m=\u001b[39m \u001b[43mpipeline\u001b[49m\u001b[43m(\u001b[49m\n\u001b[1;32m     30\u001b[0m \u001b[43m    \u001b[49m\u001b[43mtask\u001b[49m\u001b[38;5;241;43m=\u001b[39;49m\u001b[43mTasks\u001b[49m\u001b[38;5;241;43m.\u001b[39;49m\u001b[43memotion_recognition\u001b[49m\u001b[43m,\u001b[49m\n\u001b[1;32m     31\u001b[0m \u001b[43m    \u001b[49m\u001b[43mmodel\u001b[49m\u001b[38;5;241;43m=\u001b[39;49m\u001b[38;5;124;43m\"\u001b[39;49m\u001b[38;5;124;43miic/emotion2vec_plus_base\u001b[39;49m\u001b[38;5;124;43m\"\u001b[39;49m\u001b[43m)\u001b[49m  \u001b[38;5;66;03m# Alternative: iic/emotion2vec_plus_seed, iic/emotion2vec_plus_base, iic/emotion2vec_plus_large and iic/emotion2vec_base_finetuned\u001b[39;00m\n\u001b[1;32m     33\u001b[0m rec_result \u001b[38;5;241m=\u001b[39m inference_pipeline(\u001b[38;5;124m'\u001b[39m\u001b[38;5;124mtheaudio.mp3\u001b[39m\u001b[38;5;124m'\u001b[39m, output_dir\u001b[38;5;241m=\u001b[39m\u001b[38;5;124m\"\u001b[39m\u001b[38;5;124m./outputs\u001b[39m\u001b[38;5;124m\"\u001b[39m, granularity\u001b[38;5;241m=\u001b[39m\u001b[38;5;124m\"\u001b[39m\u001b[38;5;124mutterance\u001b[39m\u001b[38;5;124m\"\u001b[39m, extract_embedding\u001b[38;5;241m=\u001b[39m\u001b[38;5;28;01mFalse\u001b[39;00m)\n\u001b[1;32m     34\u001b[0m \u001b[38;5;28mprint\u001b[39m(rec_result)\n",
      "File \u001b[0;32m~/Library/Python/3.9/lib/python/site-packages/modelscope/pipelines/builder.py:170\u001b[0m, in \u001b[0;36mpipeline\u001b[0;34m(task, model, preprocessor, config_file, pipeline_name, framework, device, model_revision, ignore_file_pattern, **kwargs)\u001b[0m\n\u001b[1;32m    167\u001b[0m \u001b[38;5;28;01mif\u001b[39;00m preprocessor \u001b[38;5;129;01mis\u001b[39;00m \u001b[38;5;129;01mnot\u001b[39;00m \u001b[38;5;28;01mNone\u001b[39;00m:\n\u001b[1;32m    168\u001b[0m     cfg\u001b[38;5;241m.\u001b[39mpreprocessor \u001b[38;5;241m=\u001b[39m preprocessor\n\u001b[0;32m--> 170\u001b[0m \u001b[38;5;28;01mreturn\u001b[39;00m \u001b[43mbuild_pipeline\u001b[49m\u001b[43m(\u001b[49m\u001b[43mcfg\u001b[49m\u001b[43m,\u001b[49m\u001b[43m \u001b[49m\u001b[43mtask_name\u001b[49m\u001b[38;5;241;43m=\u001b[39;49m\u001b[43mtask\u001b[49m\u001b[43m)\u001b[49m\n",
      "File \u001b[0;32m~/Library/Python/3.9/lib/python/site-packages/modelscope/pipelines/builder.py:65\u001b[0m, in \u001b[0;36mbuild_pipeline\u001b[0;34m(cfg, task_name, default_args)\u001b[0m\n\u001b[1;32m     54\u001b[0m \u001b[38;5;28;01mdef\u001b[39;00m \u001b[38;5;21mbuild_pipeline\u001b[39m(cfg: ConfigDict,\n\u001b[1;32m     55\u001b[0m                    task_name: \u001b[38;5;28mstr\u001b[39m \u001b[38;5;241m=\u001b[39m \u001b[38;5;28;01mNone\u001b[39;00m,\n\u001b[1;32m     56\u001b[0m                    default_args: \u001b[38;5;28mdict\u001b[39m \u001b[38;5;241m=\u001b[39m \u001b[38;5;28;01mNone\u001b[39;00m):\n\u001b[1;32m     57\u001b[0m \u001b[38;5;250m    \u001b[39m\u001b[38;5;124;03m\"\"\" build pipeline given model config dict.\u001b[39;00m\n\u001b[1;32m     58\u001b[0m \n\u001b[1;32m     59\u001b[0m \u001b[38;5;124;03m    Args:\u001b[39;00m\n\u001b[0;32m   (...)\u001b[0m\n\u001b[1;32m     63\u001b[0m \u001b[38;5;124;03m        default_args (dict, optional): Default initialization arguments.\u001b[39;00m\n\u001b[1;32m     64\u001b[0m \u001b[38;5;124;03m    \"\"\"\u001b[39;00m\n\u001b[0;32m---> 65\u001b[0m     \u001b[38;5;28;01mreturn\u001b[39;00m \u001b[43mbuild_from_cfg\u001b[49m\u001b[43m(\u001b[49m\n\u001b[1;32m     66\u001b[0m \u001b[43m        \u001b[49m\u001b[43mcfg\u001b[49m\u001b[43m,\u001b[49m\u001b[43m \u001b[49m\u001b[43mPIPELINES\u001b[49m\u001b[43m,\u001b[49m\u001b[43m \u001b[49m\u001b[43mgroup_key\u001b[49m\u001b[38;5;241;43m=\u001b[39;49m\u001b[43mtask_name\u001b[49m\u001b[43m,\u001b[49m\u001b[43m \u001b[49m\u001b[43mdefault_args\u001b[49m\u001b[38;5;241;43m=\u001b[39;49m\u001b[43mdefault_args\u001b[49m\u001b[43m)\u001b[49m\n",
      "File \u001b[0;32m~/Library/Python/3.9/lib/python/site-packages/modelscope/utils/registry.py:215\u001b[0m, in \u001b[0;36mbuild_from_cfg\u001b[0;34m(cfg, registry, group_key, default_args)\u001b[0m\n\u001b[1;32m    212\u001b[0m         \u001b[38;5;28;01mreturn\u001b[39;00m obj_cls(\u001b[38;5;241m*\u001b[39m\u001b[38;5;241m*\u001b[39margs)\n\u001b[1;32m    213\u001b[0m \u001b[38;5;28;01mexcept\u001b[39;00m \u001b[38;5;167;01mException\u001b[39;00m \u001b[38;5;28;01mas\u001b[39;00m e:\n\u001b[1;32m    214\u001b[0m     \u001b[38;5;66;03m# Normal TypeError does not print class name.\u001b[39;00m\n\u001b[0;32m--> 215\u001b[0m     \u001b[38;5;28;01mraise\u001b[39;00m \u001b[38;5;28mtype\u001b[39m(e)(\u001b[38;5;124mf\u001b[39m\u001b[38;5;124m'\u001b[39m\u001b[38;5;132;01m{\u001b[39;00mobj_cls\u001b[38;5;241m.\u001b[39m\u001b[38;5;18m__name__\u001b[39m\u001b[38;5;132;01m}\u001b[39;00m\u001b[38;5;124m: \u001b[39m\u001b[38;5;132;01m{\u001b[39;00me\u001b[38;5;132;01m}\u001b[39;00m\u001b[38;5;124m'\u001b[39m)\n",
      "\u001b[0;31mModuleNotFoundError\u001b[0m: FunASRPipeline: No module named 'torchaudio'"
     ]
    }
   ],
   "source": [
    "'''\n",
    "Using the finetuned emotion recognization model\n",
    "\n",
    "rec_result contains {'feats', 'labels', 'scores'}\n",
    "\textract_embedding=False: 9-class emotions with scores\n",
    "\textract_embedding=True: 9-class emotions with scores, along with features\n",
    "\n",
    "9-class emotions: iic/emotion2vec_base_finetuned\n",
    "    0: angry\n",
    "    1: disgusted\n",
    "    2: fearful\n",
    "    3: happy\n",
    "    4: neutral\n",
    "    5: other\n",
    "    6: sad\n",
    "    7: surprised\n",
    "    8: unknown\n",
    "\n",
    "4-class emotions: iic/emotion2vec_plus_seed, iic/emotion2vec_plus_base, iic/emotion2vec_plus_large\n",
    "    0: angry\n",
    "    1: happy\n",
    "    2: neutral\n",
    "    3: sad\n",
    "'''\n",
    "\n",
    "from modelscope.pipelines import pipeline\n",
    "from modelscope.utils.constant import Tasks\n",
    "\n"
   ]
  },
  {
   "cell_type": "code",
   "execution_count": 22,
   "metadata": {},
   "outputs": [
    {
     "name": "stderr",
     "output_type": "stream",
     "text": [
      "2024-06-08 16:38:43,595 - modelscope - WARNING - Model revision not specified, use revision: v2.0.4\n",
      "Downloading: 100%|██████████| 3.06k/3.06k [00:00<00:00, 4.43kB/s]\n",
      "Downloading: 100%|██████████| 354/354 [00:00<00:00, 493B/s]\n",
      "Downloading: 100%|██████████| 1.05G/1.05G [00:47<00:00, 23.5MB/s]\n",
      "Downloading: 100%|██████████| 1.88k/1.88k [00:00<00:00, 2.87kB/s]\n",
      "Downloading: 100%|██████████| 314k/314k [00:00<00:00, 333kB/s]\n",
      "Downloading: 100%|██████████| 120/120 [00:00<00:00, 134B/s]\n",
      "2024-06-08 16:39:36,767 - modelscope - INFO - initiate model from /Users/prateekchhikara/.cache/modelscope/hub/iic/emotion2vec_base_finetuned\n",
      "2024-06-08 16:39:36,767 - modelscope - INFO - initiate model from location /Users/prateekchhikara/.cache/modelscope/hub/iic/emotion2vec_base_finetuned.\n",
      "2024-06-08 16:39:36,770 - modelscope - INFO - initialize model from /Users/prateekchhikara/.cache/modelscope/hub/iic/emotion2vec_base_finetuned\n"
     ]
    },
    {
     "name": "stdout",
     "output_type": "stream",
     "text": [
      "ckpt: /Users/prateekchhikara/.cache/modelscope/hub/iic/emotion2vec_base_finetuned/emotion2vec_base.pt\n"
     ]
    },
    {
     "name": "stderr",
     "output_type": "stream",
     "text": [
      "2024-06-08 16:39:37,365 - modelscope - WARNING - No preprocessor field found in cfg.\n",
      "2024-06-08 16:39:37,367 - modelscope - WARNING - No val key and type key found in preprocessor domain of configuration.json file.\n",
      "2024-06-08 16:39:37,367 - modelscope - WARNING - Cannot find available config to build preprocessor at mode inference, current config: {'model_dir': '/Users/prateekchhikara/.cache/modelscope/hub/iic/emotion2vec_base_finetuned'}. trying to build by task and model information.\n",
      "2024-06-08 16:39:37,367 - modelscope - WARNING - No preprocessor key ('funasr', 'emotion-recognition') found in PREPROCESSOR_MAP, skip building preprocessor.\n",
      "2024-06-08 16:39:37,369 - modelscope - INFO - cuda is not available, using cpu instead.\n"
     ]
    },
    {
     "name": "stdout",
     "output_type": "stream",
     "text": [
      "Warning, miss key in ckpt: modality_encoders.AUDIO.decoder.blocks.0.0.weight, mapped: modality_encoders.AUDIO.decoder.blocks.0.0.weight\n",
      "Warning, miss key in ckpt: modality_encoders.AUDIO.decoder.blocks.0.0.bias, mapped: modality_encoders.AUDIO.decoder.blocks.0.0.bias\n",
      "Warning, miss key in ckpt: modality_encoders.AUDIO.decoder.blocks.1.0.weight, mapped: modality_encoders.AUDIO.decoder.blocks.1.0.weight\n",
      "Warning, miss key in ckpt: modality_encoders.AUDIO.decoder.blocks.1.0.bias, mapped: modality_encoders.AUDIO.decoder.blocks.1.0.bias\n",
      "Warning, miss key in ckpt: modality_encoders.AUDIO.decoder.blocks.2.0.weight, mapped: modality_encoders.AUDIO.decoder.blocks.2.0.weight\n",
      "Warning, miss key in ckpt: modality_encoders.AUDIO.decoder.blocks.2.0.bias, mapped: modality_encoders.AUDIO.decoder.blocks.2.0.bias\n",
      "Warning, miss key in ckpt: modality_encoders.AUDIO.decoder.blocks.3.0.weight, mapped: modality_encoders.AUDIO.decoder.blocks.3.0.weight\n",
      "Warning, miss key in ckpt: modality_encoders.AUDIO.decoder.blocks.3.0.bias, mapped: modality_encoders.AUDIO.decoder.blocks.3.0.bias\n",
      "Warning, miss key in ckpt: modality_encoders.AUDIO.decoder.proj.weight, mapped: modality_encoders.AUDIO.decoder.proj.weight\n",
      "Warning, miss key in ckpt: modality_encoders.AUDIO.decoder.proj.bias, mapped: modality_encoders.AUDIO.decoder.proj.bias\n"
     ]
    },
    {
     "name": "stderr",
     "output_type": "stream",
     "text": [
      "rtf_avg: 0.048: 100%|\u001b[34m██████████\u001b[0m| 1/1 [00:00<00:00,  1.37it/s]                                                                                      "
     ]
    },
    {
     "name": "stdout",
     "output_type": "stream",
     "text": [
      "[{'key': 'theaudio', 'labels': ['生气/angry', '厌恶/disgusted', '恐惧/fearful', '开心/happy', '中立/neutral', '其他/other', '难过/sad', '吃惊/surprised', '<unk>'], 'scores': [2.3170260848859314e-11, 3.411916235651624e-11, 2.739704947282706e-12, 1.0, 1.2041748931324037e-08, 2.9368604770318996e-11, 4.317251889318641e-09, 4.333026559083519e-12, 3.519792443618108e-11]}]\n"
     ]
    },
    {
     "name": "stderr",
     "output_type": "stream",
     "text": [
      "\n"
     ]
    }
   ],
   "source": [
    "inference_pipeline = pipeline(\n",
    "    task=Tasks.emotion_recognition,\n",
    "    model=\"iic/emotion2vec_base_finetuned\")  # Alternative: iic/emotion2vec_plus_seed, iic/emotion2vec_plus_base, iic/emotion2vec_plus_large and iic/emotion2vec_base_finetuned\n",
    "\n",
    "rec_result = inference_pipeline('theaudio.mp3', output_dir=\"./outputs\", granularity=\"utterance\", extract_embedding=False)\n",
    "print(rec_result)"
   ]
  },
  {
   "cell_type": "code",
   "execution_count": 27,
   "metadata": {},
   "outputs": [
    {
     "data": {
      "text/plain": [
       "3"
      ]
     },
     "execution_count": 27,
     "metadata": {},
     "output_type": "execute_result"
    }
   ],
   "source": [
    "\n",
    "\n"
   ]
  },
  {
   "cell_type": "code",
   "execution_count": null,
   "metadata": {},
   "outputs": [],
   "source": []
  }
 ],
 "metadata": {
  "kernelspec": {
   "display_name": "Python 3",
   "language": "python",
   "name": "python3"
  },
  "language_info": {
   "codemirror_mode": {
    "name": "ipython",
    "version": 3
   },
   "file_extension": ".py",
   "mimetype": "text/x-python",
   "name": "python",
   "nbconvert_exporter": "python",
   "pygments_lexer": "ipython3",
   "version": "3.9.6"
  }
 },
 "nbformat": 4,
 "nbformat_minor": 2
}
